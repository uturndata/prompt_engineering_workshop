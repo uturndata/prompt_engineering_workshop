{
 "cells": [
  {
   "cell_type": "code",
   "execution_count": 1,
   "id": "e1952dcf",
   "metadata": {},
   "outputs": [],
   "source": [
    "from langchain_aws import ChatBedrock\n",
    "from langchain.prompts import PromptTemplate\n",
    "from langchain_core.output_parsers import StrOutputParser"
   ]
  },
  {
   "cell_type": "code",
   "execution_count": 2,
   "id": "4867a56e",
   "metadata": {},
   "outputs": [],
   "source": [
    "model = ChatBedrock(\n",
    "    model_id=\"anthropic.claude-3-sonnet-20240229-v1:0\",\n",
    "    model_kwargs={\"temperature\": 1.0, 'max_tokens': 20000},\n",
    "    guardrails={\"guardrailIdentifier\": \"z0x1jv6cnbct\", \"guardrailVersion\": \"1\"}\n",
    ")"
   ]
  },
  {
   "cell_type": "code",
   "execution_count": 3,
   "id": "ba705283",
   "metadata": {},
   "outputs": [],
   "source": [
    "prompt = PromptTemplate(\n",
    "    template=\"\"\"\n",
    "Imagine three different experts are answering this question.\n",
    "All experts will write down 1 step of their thinking,\n",
    "then share it with the group.\n",
    "Then all experts will go on to the next step, etc.\n",
    "If any expert realises they're wrong at any point then they leave.\n",
    "The question is... what is 2*13-23*1(2%2)?\n",
    "\"\"\"\n",
    ")"
   ]
  },
  {
   "cell_type": "code",
   "execution_count": 4,
   "id": "47178422",
   "metadata": {},
   "outputs": [],
   "source": [
    "chain = prompt | model | StrOutputParser()"
   ]
  },
  {
   "cell_type": "code",
   "execution_count": 5,
   "id": "4b4fb4bb",
   "metadata": {
    "scrolled": true
   },
   "outputs": [
    {
     "name": "stdout",
     "output_type": "stream",
     "text": [
      "Sure, let's simulate this scenario with three experts working on solving the expression \"2*13-23*1(2%2)\":\n",
      "\n",
      "Expert 1, Step 1:\n",
      "To solve this expression, we need to follow the order of operations (PEMDAS - Parentheses, Exponents, Multiplication/Division, Addition/Subtraction). First, we evaluate the expression inside the parentheses: 2%2 means the remainder of 2 divided by 2, which is 0.\n",
      "\n",
      "Expert 2, Step 1:\n",
      "I agree with Expert 1's first step. 2%2 = 0, so the expression becomes 2*13-23*1(0).\n",
      "\n",
      "Expert 3, Step 1:\n",
      "I concur with the previous steps. The expression now simplifies to 2*13-23*1*0, which is the same as 2*13-0.\n",
      "\n",
      "Expert 1, Step 2:\n",
      "Next, we perform the multiplication operations: 2*13 = 26, and 23*1*0 = 0. So, the expression becomes 26-0.\n",
      "\n",
      "Expert 2, Step 2:\n",
      "I agree with Expert 1's step. The expression now simplifies to 26-0, which is just 26.\n",
      "\n",
      "Expert 3, Step 2:\n",
      "The previous steps are correct. The final answer is 26.\n",
      "\n",
      "Since all experts arrived at the same final answer, no one needs to leave the group, and the solution to the given expression \"2*13-23*1(2%2)\" is 26.\n"
     ]
    }
   ],
   "source": [
    "print(chain.invoke({}))"
   ]
  }
 ],
 "metadata": {
  "kernelspec": {
   "display_name": "conda_python3",
   "language": "python",
   "name": "conda_python3"
  },
  "language_info": {
   "codemirror_mode": {
    "name": "ipython",
    "version": 3
   },
   "file_extension": ".py",
   "mimetype": "text/x-python",
   "name": "python",
   "nbconvert_exporter": "python",
   "pygments_lexer": "ipython3",
   "version": "3.10.14"
  }
 },
 "nbformat": 4,
 "nbformat_minor": 5
}
