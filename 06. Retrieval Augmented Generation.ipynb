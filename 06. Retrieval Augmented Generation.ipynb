{
 "cells": [
  {
   "cell_type": "code",
   "execution_count": 1,
   "id": "a591a0ba",
   "metadata": {},
   "outputs": [],
   "source": [
    "# context is added to the prompt by retrieving data from an external source, in this case, Amazon Kendra, \n",
    "# a search engine service provided by AWS.\n",
    "# for this exercise, customer service interaction notes have been generated using an LLM.\n",
    "# these notes are for a fictitious ticketing company named 'ticketmom'. \n",
    "# the interactions have been indexed by Kendra and are ready for search.\n",
    "\n",
    "# the code below retrieves search results from Kendra, injects them into a prompt, then asks a question \n",
    "# about the content."
   ]
  },
  {
   "cell_type": "code",
   "execution_count": 2,
   "id": "6ef7a9f2",
   "metadata": {
    "scrolled": true
   },
   "outputs": [],
   "source": [
    "import boto3\n",
    "\n",
    "from langchain_aws import ChatBedrock\n",
    "from langchain_core.output_parsers import StrOutputParser\n",
    "\n",
    "from langchain.prompts import PromptTemplate\n",
    "from langchain_community.retrievers import AmazonKendraRetriever\n",
    "from langchain.prompts.few_shot import FewShotPromptTemplate"
   ]
  },
  {
   "cell_type": "code",
   "execution_count": 3,
   "id": "8c7f7212",
   "metadata": {},
   "outputs": [],
   "source": [
    "# reference to the foundation model via amazon bedrock.\n",
    "model = ChatBedrock(\n",
    "    model_id=\"anthropic.claude-3-sonnet-20240229-v1:0\",  # claude is awesome!    \n",
    "    model_kwargs={\"temperature\": 0.95},                  # parameters vary by model\n",
    "#     guardrails={                                         # guardrails filter prompts and responses\n",
    "#         \"guardrailIdentifier\": \"z0x1jv6cnbct\", \n",
    "#         \"guardrailVersion\": \"1\"\n",
    "#     }\n",
    ")"
   ]
  },
  {
   "cell_type": "code",
   "execution_count": 4,
   "id": "baf4aaec",
   "metadata": {},
   "outputs": [
    {
     "name": "stdout",
     "output_type": "stream",
     "text": [
      "Amazon Kendra Index ID: 02e8ed7b-46c2-4bde-9b97-3f9491a7f97c\n"
     ]
    }
   ],
   "source": [
    "# the following code is used to look up the id of the kendra index\n",
    "# you probably don't need to do this in your own AWS account.\n",
    "\n",
    "# create connection to AWS API using boto3\n",
    "client = boto3.client('kendra')\n",
    "\n",
    "# return a list of all indices\n",
    "response = client.list_indices()\n",
    "\n",
    "# iterate through the indices until you find the one named 'ticketmom'\n",
    "# ..then assign the Id to index_id\n",
    "index_id = None\n",
    "for index in response['IndexConfigurationSummaryItems']:\n",
    "    if index['Name'] == 'ticketmom':\n",
    "        index_id = index['Id']\n",
    "\n",
    "print(f\"Amazon Kendra Index ID: {index_id}\")"
   ]
  },
  {
   "cell_type": "code",
   "execution_count": 5,
   "id": "7ad0de8e",
   "metadata": {},
   "outputs": [],
   "source": [
    "# retrievers are langchain objects which retrieve from external data stores.\n",
    "retriever = AmazonKendraRetriever(\n",
    "    index_id=index_id,\n",
    "    top_k = 5 # the number of search result documents to return\n",
    ")"
   ]
  },
  {
   "cell_type": "code",
   "execution_count": 9,
   "id": "94c04676",
   "metadata": {},
   "outputs": [
    {
     "name": "stdout",
     "output_type": "stream",
     "text": [
      "Document Title: Neon Dreams Festival.txt\n",
      "Document Excerpt: \n",
      "She was adamant that she did not want or need 6 tickets. I apologized for the confusion and double charge. After reviewing the order details, I saw that the first order of 2 tickets was placed from her computer, and the second order of 4 tickets was placed from her mobile device an hour later. Jennifer insisted she only meant to purchase the 4 mobile tickets, but wasn't sure why the first computer order went through as well. She got flustered trying to explain what happened and blamed our \"terrible website\" for the mixup. I tried to de-escalate the situation by taking full responsibility and initiating a refund for the unintended 2 ticket order from her computer. However, she was still extremely unhappy about being overcharged initially. After some back and forth, I issued her a one-time 15% discount on the 4 mobile tickets she wanted to keep as a courtesy. I also offered to have the 4 tickets reprinted as a new combined order on one account for free to clear up any other issues. Jennifer finally calmed down after that, but not before threatening to leave negative reviews and never use TicketMom again.\n",
      "\n",
      "\n",
      "\n",
      "Document Title: Neon Dreams Festival.txt\n",
      "Document Excerpt: \n",
      "When I pulled up her account details, I noticed there were actually two separate orders placed about an hour apart - one for 2 tickets and another for 4 tickets, both under her name and email address. Jennifer was distraught because she had only intended to purchase 4 tickets total. She said her payment had been charged twice, resulting in her being billed for 6 tickets instead of 4. She was adamant that she did not want or need 6 tickets. I apologized for the confusion and double charge. After reviewing the order details, I saw that the first order of 2 tickets was placed from her computer, and the second order of 4 tickets was placed from her mobile device an hour later. Jennifer insisted she only meant to purchase the 4 mobile tickets, but wasn't sure why the first computer order went through as well. She got flustered trying to explain what happened and blamed our \"terrible website\" for the mixup. I tried to de-escalate the situation by taking full responsibility and initiating a refund for the unintended 2 ticket order from her computer. However, she was still extremely unhappy about being overcharged initially. After some back and forth, I issued her a one-time 15% discount on the 4 mobile tickets she wanted to keep as a courtesy.\n",
      "\n",
      "\n",
      "\n",
      "Document Title: Cosmic Carnival.txt\n",
      "Document Excerpt: \n",
      "describing a complicated interaction with a customer for the Neon Dreams Festival: Customer: Samantha R. Contact Method: Phone Call Event: Neon Dreams Festival, Miami - 2023-07-15 8PM Issue: Missing Tickets Samantha called in very frustrated. She purchased 4 GA tickets for the festival a few months ago but cannot find the tickets anywhere. She has checked all email folders, did a computer search, etc. but cannot locate the PDF tickets she should have received. I asked her to verify the email address on the account and she double checked that it was correct. I then did a search in our system and fortunately the order was there with the 4 GA tickets issued. However, the issue was that the tickets had been sent to an old email address on file, not the current one she was using. Samantha was understandably annoyed that the tickets went to the wrong place due to our system having outdated info. She raised her voice a bit saying this was unacceptable and she may miss the festival because of our \"incompetence\". I acknowledged the mistake, apologized sincerely, and tried to de-escalate by emphasizing we would get it resolved.\n",
      "\n",
      "\n",
      "\n",
      "Document Title: Neon Dreams Festival.txt\n",
      "Document Excerpt: \n",
      "Said they had been trying for over an hour and the ticketing links weren't working. Asked for their order number and name to look up their account. Customer was getting increasingly agitated while I was verifying details, accusing me of \"wasting time\" and saying they had somewhere to be soon. Finally located their order and saw that multiple e-ticket links had been sent to the email on file. Customer claimed none of those links worked. Resent the links via email while on the call and had them try again but customer said still not loading. Explored a few troubleshooting steps like clearing cache, trying different browser, restarting computer - nothing worked on customer's end. They were becoming irate, raising voice and using occasional profanity out of sheer frustration. Determined the issue seemed to be on our end with the e-ticket links. Profusely apologized and said I would need to escalate to the technical team. Asked if I could put a brief hold while transferring but customer hung up, yelling an expletive as they did so. Left detailed notes on the account regarding troubleshooting performed and issue with e-tickets not loading.\n",
      "\n",
      "\n",
      "\n",
      "Document Title: Broadway Blockbuster.txt\n",
      "Document Excerpt: \n",
      "I apologized for the inconvenience and asked her to walk me through the steps she took while accessing the app. It turned out that she had an older version of the app installed, which was causing compatibility issues with the latest ticket formats. After some back and forth, I was able to guide Samantha through updating the app to the newest version. However, she then encountered an error message that prevented her from logging into her account. At this point, Samantha was becoming increasingly frustrated and raised her voice, demanding to speak with a supervisor. I calmly explained that I would do my best to resolve the issue without needing to escalate it. After some troubleshooting, I discovered that the error was due to a temporary glitch in our system, which was preventing certain accounts from logging in. I assured Samantha that our tech team was working on resolving the glitch and that her tickets were still valid and secure in her account. To address her immediate concerns, I offered to email her the PDF versions of the tickets directly, which she could then access on her phone or print out. Samantha reluctantly agreed, but made it clear that she expected a follow-up once the system was back up and running.\n",
      "\n",
      "\n",
      "\n",
      "\n",
      "act as an expert in customer service. \n",
      "\n",
      "assess the preceding customer interactions to identify how ticketmom could \n",
      "deliver better quality service.. with the goal of creating happier customers.\n",
      "\n",
      "articulate your suggestion very succinctly, with three bullet points one sentence each.\n",
      "\n",
      "\n"
     ]
    }
   ],
   "source": [
    "# we are using a few-shot prompt template because it easily injects a list of records\n",
    "# into a prompt. we are not doing few-shot prompting for this use case.\n",
    "\n",
    "# this is the search term we will use when querying kendra\n",
    "customer_service_issue = 'computer error'\n",
    "\n",
    "# generates the prompt and injects the search results\n",
    "prompt = FewShotPromptTemplate(\n",
    "    examples=retriever.invoke(customer_service_issue),\n",
    "    example_prompt=PromptTemplate(\n",
    "        input_variables=[\"page_content\"],\n",
    "        template=\"{page_content}\\n\",\n",
    "    ),\n",
    "    suffix=\"\"\"\n",
    "act as an expert in customer service. \n",
    "\n",
    "assess the preceding customer interactions to identify how ticketmom could \n",
    "deliver better quality service.. with the goal of creating happier customers.\n",
    "\n",
    "articulate your suggestion very succinctly, with three bullet points one sentence each.\n",
    "\n",
    "\"\"\"\n",
    ")\n",
    "\n",
    "# let's have a look at the prompt:\n",
    "print(prompt.format())"
   ]
  },
  {
   "cell_type": "code",
   "execution_count": 10,
   "id": "911d8890",
   "metadata": {},
   "outputs": [],
   "source": [
    "chain = prompt | model | StrOutputParser()"
   ]
  },
  {
   "cell_type": "code",
   "execution_count": 11,
   "id": "c85cf136",
   "metadata": {
    "scrolled": true
   },
   "outputs": [
    {
     "name": "stdout",
     "output_type": "stream",
     "text": [
      "To deliver better quality service and create happier customers, TicketMom should:\n",
      "\n",
      "• Ensure accurate customer information is captured and maintained to avoid issues like sending tickets to the wrong email address. \n",
      "\n",
      "• Prioritize improving website/app functionality and performance to prevent technical glitches that frustrate customers.\n",
      "\n",
      "• Train customer service agents on effective de-escalation techniques to better manage irate customers and resolve issues calmly.\n"
     ]
    }
   ],
   "source": [
    "response = chain.invoke(input={})\n",
    "\n",
    "print(response)"
   ]
  }
 ],
 "metadata": {
  "kernelspec": {
   "display_name": "conda_python3",
   "language": "python",
   "name": "conda_python3"
  },
  "language_info": {
   "codemirror_mode": {
    "name": "ipython",
    "version": 3
   },
   "file_extension": ".py",
   "mimetype": "text/x-python",
   "name": "python",
   "nbconvert_exporter": "python",
   "pygments_lexer": "ipython3",
   "version": "3.10.14"
  }
 },
 "nbformat": 4,
 "nbformat_minor": 5
}
