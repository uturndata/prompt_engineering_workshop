{
 "cells": [
  {
   "cell_type": "code",
   "execution_count": null,
   "id": "a591a0ba",
   "metadata": {},
   "outputs": [],
   "source": [
    "# context is added to the prompt by retrieving data from an external source, in this case, Amazon Kendra, \n",
    "# a search engine service provided by AWS.\n",
    "# for this exercise, customer service interaction notes have been generated using an LLM.\n",
    "# these notes are for a fictitious ticketing company named 'ticketmom'. \n",
    "# the interactions have been indexed by Kendra and are ready for search.\n",
    "\n",
    "# the code below retrieves search results from Kendra, injects them into a prompt, then asks a question \n",
    "# about the content."
   ]
  },
  {
   "cell_type": "code",
   "execution_count": null,
   "id": "6ef7a9f2",
   "metadata": {
    "scrolled": true
   },
   "outputs": [],
   "source": [
    "import boto3\n",
    "\n",
    "from langchain_aws import ChatBedrock\n",
    "from langchain_core.output_parsers import StrOutputParser\n",
    "\n",
    "from langchain.prompts import PromptTemplate\n",
    "from langchain_community.retrievers import AmazonKendraRetriever\n",
    "from langchain.prompts.few_shot import FewShotPromptTemplate"
   ]
  },
  {
   "cell_type": "code",
   "execution_count": null,
   "id": "8c7f7212",
   "metadata": {},
   "outputs": [],
   "source": [
    "# looks up the id for the guardrail named 'sanitize'\n",
    "bedrock_client = boto3.client('bedrock')\n",
    "guardrails = bedrock_client.list_guardrails()\n",
    "this_guardrail_id = None\n",
    "for guardrail in guardrails['guardrails']:\n",
    "    if guardrail['name'] == 'sanitizer':\n",
    "        this_guardrail_id = guardrail['id']\n",
    "        break\n",
    "print(\"guardrail ID: \" + this_guardrail_id)\n",
    "\n",
    "# reference to the foundation model via amazon bedrock.\n",
    "# https://docs.aws.amazon.com/bedrock/latest/userguide/inference-parameters.html\n",
    "model = ChatBedrock(\n",
    "    model_id=\"anthropic.claude-3-sonnet-20240229-v1:0\",  # claude is awesome!    \n",
    "    model_kwargs={\n",
    "        \"temperature\": 0.95,\n",
    "        \"top_p\": 0.95,\n",
    "        \"top_k\": 250,\n",
    "        \"max_tokens\": 20000\n",
    "    },\n",
    "    guardrails={                                         # guardrails filter prompts and responses\n",
    "        \"guardrailIdentifier\": this_guardrail_id, \n",
    "        \"guardrailVersion\": \"1\"\n",
    "    }\n",
    ")"
   ]
  },
  {
   "cell_type": "code",
   "execution_count": null,
   "id": "baf4aaec",
   "metadata": {},
   "outputs": [],
   "source": [
    "# the following code is used to look up the id of the kendra index\n",
    "# you probably don't need to do this in your own AWS account.\n",
    "\n",
    "# create connection to AWS API using boto3\n",
    "client = boto3.client('kendra')\n",
    "\n",
    "# return a list of all indices\n",
    "response = client.list_indices()\n",
    "\n",
    "# iterate through the indices until you find the one named 'ticketmom'\n",
    "# ..then assign the Id to index_id\n",
    "index_id = None\n",
    "for index in response['IndexConfigurationSummaryItems']:\n",
    "    if index['Name'] == 'ticketmom':\n",
    "        index_id = index['Id']\n",
    "\n",
    "print(f\"Amazon Kendra Index ID: {index_id}\")"
   ]
  },
  {
   "cell_type": "code",
   "execution_count": null,
   "id": "7ad0de8e",
   "metadata": {},
   "outputs": [],
   "source": [
    "# retrievers are langchain objects which retrieve from external data stores.\n",
    "retriever = AmazonKendraRetriever(\n",
    "    index_id=index_id,\n",
    "    top_k = 5 # the number of search result documents to return\n",
    ")"
   ]
  },
  {
   "cell_type": "code",
   "execution_count": null,
   "id": "94c04676",
   "metadata": {},
   "outputs": [],
   "source": [
    "# we are using a few-shot prompt template because it easily injects a list of records\n",
    "# into a prompt. we are not doing few-shot prompting for this use case.\n",
    "\n",
    "# this is the search term we will use when querying kendra\n",
    "customer_service_issue = 'computer error'\n",
    "\n",
    "# generates the prompt and injects the search results\n",
    "prompt = FewShotPromptTemplate(\n",
    "    examples=retriever.invoke(customer_service_issue),\n",
    "    example_prompt=PromptTemplate(\n",
    "        input_variables=[\"page_content\"],\n",
    "        template=\"{page_content}\\n\",\n",
    "    ),\n",
    "    suffix=\"\"\"\n",
    "act as an expert in customer service. \n",
    "\n",
    "assess the preceding customer interactions to identify how ticketmom could \n",
    "deliver better quality service.. with the goal of creating happier customers.\n",
    "\n",
    "articulate your suggestion very succinctly, with three bullet points one sentence each.\n",
    "\n",
    "\"\"\"\n",
    ")\n",
    "\n",
    "# let's have a look at the prompt:\n",
    "print(prompt.format())"
   ]
  },
  {
   "cell_type": "code",
   "execution_count": null,
   "id": "911d8890",
   "metadata": {},
   "outputs": [],
   "source": [
    "chain = prompt | model | StrOutputParser()"
   ]
  },
  {
   "cell_type": "code",
   "execution_count": null,
   "id": "c85cf136",
   "metadata": {
    "scrolled": true
   },
   "outputs": [],
   "source": [
    "response = chain.invoke(input={})\n",
    "\n",
    "print(response)"
   ]
  }
 ],
 "metadata": {
  "kernelspec": {
   "display_name": "conda_python3",
   "language": "python",
   "name": "conda_python3"
  },
  "language_info": {
   "codemirror_mode": {
    "name": "ipython",
    "version": 3
   },
   "file_extension": ".py",
   "mimetype": "text/x-python",
   "name": "python",
   "nbconvert_exporter": "python",
   "pygments_lexer": "ipython3",
   "version": "3.10.14"
  }
 },
 "nbformat": 4,
 "nbformat_minor": 5
}
