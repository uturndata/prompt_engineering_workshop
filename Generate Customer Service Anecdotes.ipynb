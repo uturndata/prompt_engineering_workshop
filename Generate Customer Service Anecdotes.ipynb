{
 "cells": [
  {
   "cell_type": "code",
   "execution_count": null,
   "id": "e1952dcf",
   "metadata": {},
   "outputs": [],
   "source": [
    "from langchain_aws import ChatBedrock\n",
    "from langchain.prompts import PromptTemplate\n",
    "from langchain_core.output_parsers import StrOutputParser\n",
    "import json\n",
    "import random\n",
    "from multiprocessing import Pool\n",
    "import boto3"
   ]
  },
  {
   "cell_type": "code",
   "execution_count": null,
   "id": "4867a56e",
   "metadata": {},
   "outputs": [],
   "source": [
    "# reference to the foundation model via amazon bedrock.\n",
    "model = ChatBedrock(\n",
    "    model_id=\"anthropic.claude-3-sonnet-20240229-v1:0\",  # claude is awesome!    \n",
    "    model_kwargs={\"temperature\": 1.0,\n",
    "                 'max_tokens': 20000}                  # parameters vary by model\n",
    ")"
   ]
  },
  {
   "cell_type": "code",
   "execution_count": null,
   "id": "ba705283",
   "metadata": {},
   "outputs": [],
   "source": [
    "# returns template text for passing into LLM\n",
    "# a palindrome is a word or phrase that is identical when spelled backward, excluding punctuation.\n",
    "prompt = PromptTemplate(\n",
    "    template=\"\"\"\n",
    "context: ticketmom provides online ticketing for large scale events such as concerts,\n",
    "broadway shows, ballet, opera, car races, monster truck rallies, kid's shows, and festivals.\n",
    "ticketmom customers are generally polite, but sometimes are impatient or frustrated in a way\n",
    "that makes it difficult to work with them.\n",
    "\n",
    "role: you are a ticketmom customer service agent who works with customers \n",
    "via email and telephone to resolve issues with their orders and accounts.\n",
    "you are polite, but sometimes get frustrated with difficult situations.\n",
    "\n",
    "ticketing event: {event_name} in {city} at the venue: {venue} on {event_datetime}\n",
    "\n",
    "generate notes describing a complicated interaction with a customer who bought tickets for this event.\n",
    "\n",
    "format: free form text. the length of the notes should reflect the complexity of the issue.\n",
    "\"\"\"\n",
    ")"
   ]
  },
  {
   "cell_type": "code",
   "execution_count": null,
   "id": "b6c896ab",
   "metadata": {},
   "outputs": [],
   "source": [
    "events = PromptTemplate(\n",
    "    template=\"\"\"\n",
    "context: ticketmom provides online ticketing for large scale events such as concerts,\n",
    "broadway shows, ballet, opera, car races, monster truck rallies, kid's shows, and festivals.\n",
    "\n",
    "create a list of 50 fictitious events which would be sold via ticketmom.\n",
    "\n",
    "return the event data only as a list of JSON objects with the following structure:\n",
    "\n",
    "\"event_name\": EVENT_NAME, \"city\", EVENT_CITY, \"event_datetime\": EVENT_DATETIME, \"venue\": EVENT_VENUE\n",
    "\"\"\"\n",
    ")"
   ]
  },
  {
   "cell_type": "code",
   "execution_count": null,
   "id": "3f0a8d17",
   "metadata": {},
   "outputs": [],
   "source": [
    "events_chain = events | model | StrOutputParser()"
   ]
  },
  {
   "cell_type": "code",
   "execution_count": null,
   "id": "47178422",
   "metadata": {},
   "outputs": [],
   "source": [
    "# prompt is passed into the model. response is parsed for easy reading.\n",
    "chain = prompt | model | StrOutputParser()"
   ]
  },
  {
   "cell_type": "code",
   "execution_count": null,
   "id": "44bc9b5b",
   "metadata": {},
   "outputs": [],
   "source": [
    "events_response = events_chain.invoke({})\n",
    "event_list = json.loads(events_response)"
   ]
  },
  {
   "cell_type": "code",
   "execution_count": null,
   "id": "4dd1d189",
   "metadata": {},
   "outputs": [],
   "source": [
    "def event_document(event, response):\n",
    "    e = event\n",
    "    e['incident_notes'] = response\n",
    "    return e\n",
    "\n",
    "def doc_to_text(event_doc):\n",
    "    return f\"\"\"\n",
    "------------------------\n",
    "event: {event_doc['event_name']}\n",
    "\n",
    "city: {event_doc['city']}\n",
    "\n",
    "venue: {event_doc['venue']}\n",
    "\n",
    "event_date: {event_doc['event_datetime']}\n",
    "\n",
    "customer service notes:\n",
    "\n",
    "{event_doc['incident_notes']}\n",
    "\n",
    "\"\"\""
   ]
  },
  {
   "cell_type": "code",
   "execution_count": null,
   "id": "e640656d",
   "metadata": {
    "scrolled": true
   },
   "outputs": [],
   "source": [
    "for event in event_list:\n",
    "    event_docs = \"\"\n",
    "    for i in range(0, random.randint(2, 4)):\n",
    "        cs_notes = chain.invoke(event)\n",
    "        this_event_doc = event_document(event, cs_notes)\n",
    "        event_docs += doc_to_text(this_event_doc)\n",
    "    print(event_docs)\n"
   ]
  },
  {
   "cell_type": "code",
   "execution_count": null,
   "id": "c8876bd3",
   "metadata": {},
   "outputs": [],
   "source": [
    "def generate_interaction(event):\n",
    "    try:\n",
    "        cs_notes = chain.invoke(event)\n",
    "        this_event_doc = doc_to_markdown(event_document(event, cs_notes))\n",
    "        return this_event_doc\n",
    "    except e as Exception:\n",
    "        return 'ERROR'\n",
    "\n",
    "s3_client = boto3.client('s3', region_name='us-west-2')\n",
    "\n",
    "for event in event_list:\n",
    "    this_event_interactions = []\n",
    "    with Pool(8) as p:\n",
    "        this_event_interactions = p.map(generate_interaction, [event_list[0] for x in range(8, random.randint(9, 150))])\n",
    "        joined = ''.join(this_event_interactions)\n",
    "        s3_client.put_object(\n",
    "            Bucket='ticketmom-cs-interactions',\n",
    "            Key=event['event_name'] + '.txt',\n",
    "            Body=bytes(joined,'utf-8')\n",
    "        )\n",
    "        print(event)\n"
   ]
  },
  {
   "cell_type": "code",
   "execution_count": null,
   "id": "b6c1014c",
   "metadata": {},
   "outputs": [],
   "source": []
  }
 ],
 "metadata": {
  "kernelspec": {
   "display_name": "conda_python3",
   "language": "python",
   "name": "conda_python3"
  },
  "language_info": {
   "codemirror_mode": {
    "name": "ipython",
    "version": 3
   },
   "file_extension": ".py",
   "mimetype": "text/x-python",
   "name": "python",
   "nbconvert_exporter": "python",
   "pygments_lexer": "ipython3",
   "version": "3.10.14"
  }
 },
 "nbformat": 4,
 "nbformat_minor": 5
}
