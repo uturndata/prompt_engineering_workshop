{
 "cells": [
  {
   "cell_type": "code",
   "execution_count": 1,
   "id": "10f1b46d",
   "metadata": {},
   "outputs": [],
   "source": [
    "from langchain_aws import ChatBedrock\n",
    "from langchain.prompts import PromptTemplate\n",
    "from langchain.chains import TransformChain\n",
    "from langchain_core.output_parsers import StrOutputParser\n",
    "from langchain_core.runnables import RunnableParallel, RunnablePassthrough\n",
    "from rich.pretty import pprint\n",
    "\n",
    "# maybe use a cheaper model for the rewrite?"
   ]
  },
  {
   "cell_type": "code",
   "execution_count": 8,
   "id": "098d8155",
   "metadata": {},
   "outputs": [],
   "source": [
    "model = ChatBedrock(\n",
    "    model_id=\"anthropic.claude-3-sonnet-20240229-v1:0\",\n",
    "    model_kwargs={\"temperature\": 0.99, 'max_tokens': 20000},\n",
    "    guardrails={\"guardrailIdentifier\": \"z0x1jv6cnbct\", \"guardrailVersion\": \"1\"}\n",
    ")"
   ]
  },
  {
   "cell_type": "code",
   "execution_count": 9,
   "id": "4154c6b0",
   "metadata": {},
   "outputs": [],
   "source": [
    "unchanged_prompt = PromptTemplate(\n",
    "    input_variables=[\"prompt\"], \n",
    "    template=\"{prompt}\"\n",
    ")"
   ]
  },
  {
   "cell_type": "code",
   "execution_count": 10,
   "id": "514aec9f",
   "metadata": {},
   "outputs": [],
   "source": [
    "rewrite_prompt = PromptTemplate(\n",
    "    template=\"\"\"\n",
    "act as an expert in prompt engineering who is skilled at \n",
    "getting the most useful responses possible from a generative AI model.\n",
    "\n",
    "rewrite the following to be a more effective prompt.\n",
    "the prompt should emphasize a succinct response.\n",
    "\n",
    "return only the text of the rewritten prompt, without a preamble.\n",
    "                                           \n",
    "{prompt}\n",
    "\"\"\"\n",
    ")"
   ]
  },
  {
   "cell_type": "code",
   "execution_count": 11,
   "id": "0f0ba899",
   "metadata": {},
   "outputs": [],
   "source": [
    "mapper = PromptTemplate(\n",
    "    input_variables=[\"content\"], \n",
    "    template=\"{content}\"\n",
    ")\n",
    "\n",
    "transform_chain = TransformChain(\n",
    "    input_variables=[\"content\"], \n",
    "    output_variables=[\"content\"], \n",
    "    transform=lambda data: {'content': data['content'].content}\n",
    ")"
   ]
  },
  {
   "cell_type": "code",
   "execution_count": 12,
   "id": "acee07b1",
   "metadata": {},
   "outputs": [],
   "source": [
    "chain = RunnableParallel(\n",
    "    original = unchanged_prompt | model | StrOutputParser(),\n",
    "    rewrite = rewrite_prompt | model | transform_chain | mapper  | model | StrOutputParser()\n",
    ")"
   ]
  },
  {
   "cell_type": "code",
   "execution_count": 13,
   "id": "5032b49d",
   "metadata": {},
   "outputs": [
    {
     "name": "stdout",
     "output_type": "stream",
     "text": [
      "ORIGINAL:\n",
      "Long distance space travel is theoretically possible, but there are significant technological and practical challenges that have not yet been fully overcome. Here are some key points about the possibility of long distance space travel:\n",
      "\n",
      "- It is possible within the bounds of known physics and does not violate any fundamental laws of nature like Einstein's theory of relativity. However, it requires enormous amounts of energy.\n",
      "\n",
      "- Chemical rockets like those used for current space missions are not practical for interstellar travel due to the massive amounts of propellant required over vast distances.\n",
      "\n",
      "- Theorized propulsion methods that could enable practical interstellar travel include antimatter rockets, nuclear pulse propulsion, and hypothetical concepts like warp drives and wormholes. However, these remain speculative and have daunting engineering challenges.\n",
      "\n",
      "- Travel to the nearest stars measured in light years would take centuries to millennia with current technology. Traveling across the galaxy measured in tens of thousands of light years is not feasible with foreseeable technology.\n",
      "\n",
      "- Potential alternatives to physical space travel include probes/robots, generation ships where multiple generations live on the ship, or theoretical modes of travel that could approach or exceed light speed.\n",
      "\n",
      "So while not impossible based on physics, achieving practical long distance space travel with reasonable travel times remains a monumental challenge that may require fundamental scientific and technological breakthroughs beyond our current capabilities. Substantive progress is likely still decades or more away.\n",
      "---------------------------------------\n",
      "REWRITE:\n",
      "Long-distance space travel beyond our solar system presents several formidable scientific and technological challenges. Here's a succinct overview of the key challenges and potential solutions:\n",
      "\n",
      "1. Propulsion systems:\n",
      "   Challenge: Conventional chemical rockets are inefficient for interstellar travel due to their limited energy density and the need to carry massive amounts of fuel.\n",
      "   Potential solutions: Nuclear thermal rockets, nuclear pulse propulsion, antimatter catalyzed nuclear pulse propulsion, and advanced concepts like fusion rockets and beamed energy propulsion.\n",
      "\n",
      "2. Energy sources:\n",
      "   Challenge: Providing sufficient energy for long-duration missions beyond our solar system.\n",
      "   Potential solutions: Advanced nuclear reactors, fusion reactors, and harnessing power from the star itself (e.g., solar sails, magnetic sails).\n",
      "\n",
      "3. Extreme travel times:\n",
      "   Challenge: Traversing the vast distances between stars would take centuries or millennia using conventional propulsion systems.\n",
      "   Potential solutions: Developing advanced propulsion technologies capable of achieving a significant fraction of the speed of light, or exploring alternative concepts like wormholes or warp drives (theoretical).\n",
      "\n",
      "4. Life support and habitats:\n",
      "   Challenge: Sustaining human life and providing a habitable environment for extended periods during interstellar travel.\n",
      "   Potential solutions: Closed-loop life support systems, artificial habitats, advanced regenerative technologies, and hibernation or suspended animation techniques.\n",
      "\n",
      "5. Navigation and communication:\n",
      "   Challenge: Maintaining accurate navigation and communication over vast interstellar distances.\n",
      "   Potential solutions: Advanced navigation techniques (e.g., using pulsars as celestial beacons), high-powered communication systems, and potentially establishing a network of communication relays or beacons along the way.\n",
      "\n",
      "6. Robotic precursors:\n",
      "   Challenge: Exploring and characterizing potential destination systems before committing to a costly and risky human mission.\n",
      "   Potential solutions: Developing advanced autonomous robotic probes and AI systems capable of performing extensive reconnaissance and preparing for human arrival.\n",
      "\n",
      "7. Ethical and social considerations:\n",
      "   Challenge: Addressing the ethical implications of long-term multi-generational space travel and the potential for encountering intelligent extraterrestrial life.\n",
      "   Potential solutions: Developing ethical frameworks, social structures, and cultural preservation strategies for isolated space-faring communities.\n",
      "\n",
      "Addressing these challenges will require significant advances across various scientific and technological domains, as well as substantial investments in research and development. International collaboration and a long-term commitment to space exploration will be crucial in achieving the goal of interstellar travel.\n"
     ]
    }
   ],
   "source": [
    "response = chain.invoke(\n",
    "    {\n",
    "        \"prompt\": \"is long distance space travel possible?\"\n",
    "    }\n",
    ")\n",
    "\n",
    "print('ORIGINAL:')\n",
    "print(response['original'])\n",
    "print('---------------------------------------')\n",
    "print('REWRITE:')\n",
    "print(response['rewrite'])"
   ]
  },
  {
   "cell_type": "code",
   "execution_count": null,
   "id": "ed14aaa6",
   "metadata": {},
   "outputs": [],
   "source": []
  }
 ],
 "metadata": {
  "kernelspec": {
   "display_name": "conda_python3",
   "language": "python",
   "name": "conda_python3"
  },
  "language_info": {
   "codemirror_mode": {
    "name": "ipython",
    "version": 3
   },
   "file_extension": ".py",
   "mimetype": "text/x-python",
   "name": "python",
   "nbconvert_exporter": "python",
   "pygments_lexer": "ipython3",
   "version": "3.10.14"
  }
 },
 "nbformat": 4,
 "nbformat_minor": 5
}
