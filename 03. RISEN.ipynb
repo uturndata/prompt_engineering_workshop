{
 "cells": [
  {
   "cell_type": "code",
   "execution_count": null,
   "id": "da1e63cb",
   "metadata": {},
   "outputs": [],
   "source": [
    "# RISEN, like RTF, provides a framework for you to articulate your request to the LLM.\n",
    "\n",
    "# R - Role - the role the LLM should embody\n",
    "# I - Input - the request, or root of the prompt intention\n",
    "# S - Steps - steps for the LLM to follow when addressing the input\n",
    "# E - Expected Output - a description of what you are expecting the model to return\n",
    "# N - Nuance - nuance and other considerations that should be factored into the response"
   ]
  },
  {
   "cell_type": "code",
   "execution_count": null,
   "id": "a56f1067",
   "metadata": {},
   "outputs": [],
   "source": [
    "from langchain_aws import ChatBedrock\n",
    "from langchain.prompts import PromptTemplate\n",
    "from langchain_core.output_parsers import StrOutputParser"
   ]
  },
  {
   "cell_type": "code",
   "execution_count": null,
   "id": "fabe9165",
   "metadata": {},
   "outputs": [],
   "source": [
    "model = ChatBedrock(\n",
    "    model_id=\"anthropic.claude-3-sonnet-20240229-v1:0\",\n",
    "    model_kwargs={\"temperature\": 0.95},\n",
    "    guardrails={\"guardrailIdentifier\": \"pparlr97o7gz\", \"guardrailVersion\": \"1\"}\n",
    ")"
   ]
  },
  {
   "cell_type": "code",
   "execution_count": null,
   "id": "5477c7b5",
   "metadata": {},
   "outputs": [],
   "source": [
    "role = PromptTemplate(\n",
    "    template=\"\"\"\n",
    "Act as an experienced travel consultant who creates customized travel plans\n",
    "suited specifically to the needs and requests of the client. You apply extra\n",
    "effort to finding unique experiences for the client.\n",
    "\"\"\"\n",
    ")"
   ]
  },
  {
   "cell_type": "code",
   "execution_count": null,
   "id": "66e3862d",
   "metadata": {},
   "outputs": [],
   "source": [
    "input_ = PromptTemplate(\n",
    "    input_variables = ['text'],\n",
    "    template=\"\"\"\n",
    "{text}\n",
    "\n",
    "A client wants a unique 5-day itinerary for a family vacation in Tucson, Arizona, \n",
    "including a mix of popular attractions and off-the-beaten-path experiences.\n",
    "\"\"\"\n",
    ")"
   ]
  },
  {
   "cell_type": "code",
   "execution_count": null,
   "id": "32bd8e65",
   "metadata": {},
   "outputs": [],
   "source": [
    "steps = PromptTemplate(\n",
    "    input_variables = ['text'],\n",
    "    template=\"\"\"\n",
    "{text}\n",
    "\n",
    "1. Identify popular attractions that are family-friendly.\n",
    "2. Research lesser-known spots that offer unique experiences.\n",
    "3. Combine these into a day-by-day itinerary, balancing both types of activities.\n",
    "4. Include brief descriptions and reasons for each recommendation.\n",
    "\"\"\"\n",
    ")"
   ]
  },
  {
   "cell_type": "code",
   "execution_count": null,
   "id": "3684b469",
   "metadata": {},
   "outputs": [],
   "source": [
    "expected_output = PromptTemplate(\n",
    "    input_variables = ['text'],\n",
    "    template=\"\"\"\n",
    "{text}\n",
    "\n",
    "A detailed 5-day itinerary for a family vacation in Newark, New Jersey, \n",
    "presented in a structured format with headings for each day and bullet points for activities\n",
    "\"\"\"\n",
    ")"
   ]
  },
  {
   "cell_type": "code",
   "execution_count": null,
   "id": "cbe47cf5",
   "metadata": {},
   "outputs": [],
   "source": [
    "nuance = PromptTemplate(\n",
    "    input_variables = ['text'],\n",
    "    template=\"\"\"\n",
    "{text}\n",
    "\n",
    "Ensure the daytime activities are suitable for all family members, \n",
    "including children and older adults, and consider accessibility and convenience.\n",
    "\n",
    "Nighttime activities should be tailored to adult interests.\n",
    "\"\"\"\n",
    ")"
   ]
  },
  {
   "cell_type": "code",
   "execution_count": null,
   "id": "be9a243a",
   "metadata": {},
   "outputs": [],
   "source": [
    "chain = role | input_ | steps | expected_output | nuance | model | StrOutputParser()"
   ]
  },
  {
   "cell_type": "code",
   "execution_count": null,
   "id": "e6e039d8",
   "metadata": {},
   "outputs": [],
   "source": [
    "print(chain.invoke({}))"
   ]
  },
  {
   "cell_type": "code",
   "execution_count": null,
   "id": "8193afc3",
   "metadata": {},
   "outputs": [],
   "source": []
  }
 ],
 "metadata": {
  "kernelspec": {
   "display_name": "conda_python3",
   "language": "python",
   "name": "conda_python3"
  },
  "language_info": {
   "codemirror_mode": {
    "name": "ipython",
    "version": 3
   },
   "file_extension": ".py",
   "mimetype": "text/x-python",
   "name": "python",
   "nbconvert_exporter": "python",
   "pygments_lexer": "ipython3",
   "version": "3.10.14"
  }
 },
 "nbformat": 4,
 "nbformat_minor": 5
}
