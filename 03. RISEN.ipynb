{
 "cells": [
  {
   "cell_type": "code",
   "execution_count": 1,
   "id": "da1e63cb",
   "metadata": {},
   "outputs": [],
   "source": [
    "# RISEN, like RTF, provides a framework for you to articulate your request to the LLM.\n",
    "\n",
    "# R - Role - the role the LLM should embody\n",
    "# I - Input - the request, or root of the prompt intention\n",
    "# S - Steps - steps for the LLM to follow when addressing the input\n",
    "# E - Expected Output - a description of what you are expecting the model to return\n",
    "# N - Nuance - nuance and other considerations that should be factored into the response"
   ]
  },
  {
   "cell_type": "code",
   "execution_count": 2,
   "id": "a56f1067",
   "metadata": {},
   "outputs": [],
   "source": [
    "from langchain_aws import ChatBedrock\n",
    "from langchain.prompts import PromptTemplate\n",
    "from langchain_core.output_parsers import StrOutputParser"
   ]
  },
  {
   "cell_type": "code",
   "execution_count": 3,
   "id": "fabe9165",
   "metadata": {},
   "outputs": [],
   "source": [
    "model = ChatBedrock(\n",
    "    model_id=\"anthropic.claude-3-sonnet-20240229-v1:0\",\n",
    "    model_kwargs={\"temperature\": 0.95},\n",
    "    guardrails={\"guardrailIdentifier\": \"z0x1jv6cnbct\", \"guardrailVersion\": \"1\"}\n",
    ")"
   ]
  },
  {
   "cell_type": "code",
   "execution_count": 4,
   "id": "5477c7b5",
   "metadata": {},
   "outputs": [],
   "source": [
    "role = PromptTemplate(\n",
    "    template=\"\"\"\n",
    "Act as an experienced travel consultant who creates customized travel plans\n",
    "suited specifically to the needs and requests of the client. You apply extra\n",
    "effort to finding unique experiences for the client.\n",
    "\"\"\"\n",
    ")"
   ]
  },
  {
   "cell_type": "code",
   "execution_count": 5,
   "id": "66e3862d",
   "metadata": {},
   "outputs": [],
   "source": [
    "input_ = PromptTemplate(\n",
    "    input_variables = ['text'],\n",
    "    template=\"\"\"\n",
    "{text}\n",
    "\n",
    "A client wants a unique 5-day itinerary for a family vacation in Tucson, Arizona, \n",
    "including a mix of popular attractions and off-the-beaten-path experiences.\n",
    "\"\"\"\n",
    ")"
   ]
  },
  {
   "cell_type": "code",
   "execution_count": 6,
   "id": "32bd8e65",
   "metadata": {},
   "outputs": [],
   "source": [
    "steps = PromptTemplate(\n",
    "    input_variables = ['text'],\n",
    "    template=\"\"\"\n",
    "{text}\n",
    "\n",
    "1. Identify popular attractions that are family-friendly.\n",
    "2. Research lesser-known spots that offer unique experiences.\n",
    "3. Combine these into a day-by-day itinerary, balancing both types of activities.\n",
    "4. Include brief descriptions and reasons for each recommendation.\n",
    "\"\"\"\n",
    ")"
   ]
  },
  {
   "cell_type": "code",
   "execution_count": 7,
   "id": "3684b469",
   "metadata": {},
   "outputs": [],
   "source": [
    "expected_output = PromptTemplate(\n",
    "    input_variables = ['text'],\n",
    "    template=\"\"\"\n",
    "{text}\n",
    "\n",
    "A detailed 5-day itinerary for a family vacation in Newark, New Jersey, \n",
    "presented in a structured format with headings for each day and bullet points for activities\n",
    "\"\"\"\n",
    ")"
   ]
  },
  {
   "cell_type": "code",
   "execution_count": 8,
   "id": "cbe47cf5",
   "metadata": {},
   "outputs": [],
   "source": [
    "nuance = PromptTemplate(\n",
    "    input_variables = ['text'],\n",
    "    template=\"\"\"\n",
    "{text}\n",
    "\n",
    "Ensure the daytime activities are suitable for all family members, \n",
    "including children and older adults, and consider accessibility and convenience.\n",
    "\n",
    "Nighttime activities should be tailored to adult interests.\n",
    "\"\"\"\n",
    ")"
   ]
  },
  {
   "cell_type": "code",
   "execution_count": 9,
   "id": "be9a243a",
   "metadata": {},
   "outputs": [],
   "source": [
    "chain = role | input_ | steps | expected_output | nuance | model | StrOutputParser()"
   ]
  },
  {
   "cell_type": "code",
   "execution_count": 10,
   "id": "e6e039d8",
   "metadata": {},
   "outputs": [
    {
     "name": "stdout",
     "output_type": "stream",
     "text": [
      "Here is a detailed 5-day itinerary for a family vacation in Tucson, Arizona, with a mix of popular attractions and unique off-the-beaten-path experiences. The daytime activities are suitable for all family members, while the nighttime activities are geared towards adult interests.\n",
      "\n",
      "Day 1: Desert Exploration\n",
      "\n",
      "Daytime:\n",
      "- Saguaro National Park (East or West District) - Hike the scenic trails and witness the majestic saguaro cacti in their natural habitat. The park offers accessible trails suitable for all ages.\n",
      "- Arizona-Sonora Desert Museum - An outdoor museum that combines a zoo, botanical garden, and natural history museum, providing a comprehensive experience of the Sonoran Desert.\n",
      "\n",
      "Nighttime:\n",
      "- Tucson Botanical Gardens (Thursday Night): Enjoy live music, food trucks, and stroll through the beautifully illuminated gardens during their \"Nightfall\" event.\n",
      "\n",
      "Day 2: Cultural Immersion\n",
      "\n",
      "Daytime:\n",
      "- Mission San Xavier del Bac - Visit this iconic Spanish colonial mission, known as the \"White Dove of the Desert,\" and learn about its rich history and architecture.\n",
      "- Tohono Chul Park - Explore this beautiful botanical garden showcasing the diverse flora and fauna of the Sonoran Desert region, with accessible trails and interactive exhibits.\n",
      "\n",
      "Nighttime:\n",
      "- Fourth Avenue Street Fair (every other Saturday): Experience the vibrant arts and cultural scene of Tucson by visiting this lively street fair featuring local artisans, live music, and food vendors.\n",
      "\n",
      "Day 3: Adventure and Nature\n",
      "\n",
      "Daytime:\n",
      "- Kartchner Caverns State Park - Take a guided tour through this stunning living cave system, complete with accessible trails and interactive exhibits.\n",
      "- Biosphere 2 - Explore this unique research facility that replicates various ecosystems, offering educational exhibits and tours suitable for all ages.\n",
      "\n",
      "Nighttime:\n",
      "- Hacienda del Sol Guest Ranch Resort (Grill): Enjoy a delicious dinner at this historic resort, known for its stunning views and southwestern-inspired cuisine.\n",
      "\n",
      "Day 4: Off-the-Beaten-Path Experiences\n",
      "\n",
      "Daytime:\n",
      "- Tucson Botanical Gardens - Explore the diverse plant life of the Sonoran Desert region, with accessible trails and interactive exhibits suitable for all ages.\n",
      "- Sabino Canyon Recreation Area - Take a leisurely tram ride or hike along the scenic trails, offering stunning views of the Santa Catalina Mountains.\n",
      "\n",
      "Nighttime:\n",
      "- Trail Dust Town - Experience a taste of the Old West at this unique outdoor attraction, featuring live music, cowboy shows, and a variety of dining options.\n",
      "\n",
      "Day 5: City Exploration\n",
      "\n",
      "Daytime:\n",
      "- Arizona State Museum - Learn about the rich cultural heritage of the Southwest through their extensive collections and exhibits, including indigenous artifacts and artworks.\n",
      "- Tucson Museum of Art - Explore the diverse art collections, ranging from contemporary works to traditional Native American pieces.\n",
      "\n",
      "Nighttime:\n",
      "- Main Gate Square (University of Arizona): Stroll through this lively area near the university campus, offering a variety of dining options, live music venues, and local shops.\n"
     ]
    }
   ],
   "source": [
    "print(chain.invoke({}))"
   ]
  },
  {
   "cell_type": "code",
   "execution_count": null,
   "id": "8193afc3",
   "metadata": {},
   "outputs": [],
   "source": []
  }
 ],
 "metadata": {
  "kernelspec": {
   "display_name": "conda_python3",
   "language": "python",
   "name": "conda_python3"
  },
  "language_info": {
   "codemirror_mode": {
    "name": "ipython",
    "version": 3
   },
   "file_extension": ".py",
   "mimetype": "text/x-python",
   "name": "python",
   "nbconvert_exporter": "python",
   "pygments_lexer": "ipython3",
   "version": "3.10.14"
  }
 },
 "nbformat": 4,
 "nbformat_minor": 5
}
