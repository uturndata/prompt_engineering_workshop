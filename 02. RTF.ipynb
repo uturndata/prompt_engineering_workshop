{
 "cells": [
  {
   "cell_type": "code",
   "execution_count": null,
   "id": "40f18792",
   "metadata": {},
   "outputs": [],
   "source": [
    "# RTF (Role Task Format)\n",
    "# this approach is a simple way of structuring your prompt request to the LLM.\n",
    "# essentially, you are telling the LLM:\n",
    "# who they should act as.. (role)\n",
    "# what is the question.. (task)\n",
    "# and how you want the output presented (format)\n",
    "\n",
    "# in addition to exploring RTF, this notebook demonstrates how to chain multiple prompt templates."
   ]
  },
  {
   "cell_type": "code",
   "execution_count": null,
   "id": "10f1b46d",
   "metadata": {},
   "outputs": [],
   "source": [
    "from langchain_aws import ChatBedrock\n",
    "from langchain.prompts import PromptTemplate\n",
    "from langchain_core.output_parsers import StrOutputParser"
   ]
  },
  {
   "cell_type": "code",
   "execution_count": null,
   "id": "098d8155",
   "metadata": {},
   "outputs": [],
   "source": [
    "# reference to the foundation model via amazon bedrock.\n",
    "model = ChatBedrock(\n",
    "    model_id=\"anthropic.claude-3-sonnet-20240229-v1:0\",  # claude is awesome!    \n",
    "    model_kwargs={\"temperature\": 0.95},                  # parameters vary by model\n",
    "    guardrails={                                         # guardrails filter prompts and responses\n",
    "        \"guardrailIdentifier\": \"iazd9553iw5j\", \n",
    "        \"guardrailVersion\": \"1\"\n",
    "    }\n",
    ")"
   ]
  },
  {
   "cell_type": "code",
   "execution_count": null,
   "id": "aa1ac0fc",
   "metadata": {},
   "outputs": [],
   "source": [
    "# role defines who the LLM should act as when responding to the prompt.\n",
    "role = PromptTemplate(\n",
    "    template=\"act as an expert physicist.\"\n",
    ")"
   ]
  },
  {
   "cell_type": "code",
   "execution_count": null,
   "id": "0ab0eae3",
   "metadata": {},
   "outputs": [],
   "source": [
    "# task is the the prompt or question you want the llm to address.\n",
    "# note the use of the {text} variable.\n",
    "task = PromptTemplate(\n",
    "    input_variables = ['text'],\n",
    "    template=\"\"\"\n",
    "{text}\n",
    "\n",
    "provide me some obscure facts about modern physics.\n",
    "\"\"\"\n",
    ")"
   ]
  },
  {
   "cell_type": "code",
   "execution_count": null,
   "id": "0b833e6d",
   "metadata": {},
   "outputs": [],
   "source": [
    "# defines how the response should be formatted\n",
    "fmt = PromptTemplate(\n",
    "    input_variables = ['text'],\n",
    "    template=\"\"\"\n",
    "{text}\n",
    "\n",
    "present the top three facts as only a bulleted list of succinct sentences.\n",
    "\"\"\"\n",
    ")"
   ]
  },
  {
   "cell_type": "code",
   "execution_count": null,
   "id": "1b9ca24b",
   "metadata": {},
   "outputs": [],
   "source": [
    "# prompts are chained together before passing into the model.\n",
    "chain = role | task | fmt | model | StrOutputParser()"
   ]
  },
  {
   "cell_type": "code",
   "execution_count": null,
   "id": "5032b49d",
   "metadata": {},
   "outputs": [],
   "source": [
    "print(chain.invoke({}))"
   ]
  },
  {
   "cell_type": "code",
   "execution_count": null,
   "id": "1192d39a",
   "metadata": {},
   "outputs": [],
   "source": []
  }
 ],
 "metadata": {
  "kernelspec": {
   "display_name": "conda_python3",
   "language": "python",
   "name": "conda_python3"
  },
  "language_info": {
   "codemirror_mode": {
    "name": "ipython",
    "version": 3
   },
   "file_extension": ".py",
   "mimetype": "text/x-python",
   "name": "python",
   "nbconvert_exporter": "python",
   "pygments_lexer": "ipython3",
   "version": "3.10.14"
  }
 },
 "nbformat": 4,
 "nbformat_minor": 5
}
