{
 "cells": [
  {
   "cell_type": "code",
   "execution_count": null,
   "id": "1a07413f",
   "metadata": {},
   "outputs": [],
   "source": [
    "# this exercise is an attempt to get a LLM to generate a palindrome, based on a given topic.\n",
    "# the point here is to introduce langchain.. and to focus on a deceptively simple problem."
   ]
  },
  {
   "cell_type": "code",
   "execution_count": null,
   "id": "e1952dcf",
   "metadata": {},
   "outputs": [],
   "source": [
    "from langchain_aws import ChatBedrock\n",
    "from langchain.prompts import PromptTemplate\n",
    "from langchain_core.output_parsers import StrOutputParser"
   ]
  },
  {
   "cell_type": "code",
   "execution_count": null,
   "id": "4867a56e",
   "metadata": {},
   "outputs": [],
   "source": [
    "# reference to the foundation model via amazon bedrock.\n",
    "model = ChatBedrock(\n",
    "    model_id=\"anthropic.claude-3-sonnet-20240229-v1:0\",  # claude is awesome!    \n",
    "    model_kwargs={\"temperature\": 0.95},                  # parameters vary by model\n",
    "    guardrails={                                         # guardrails filter prompts and responses\n",
    "        \"guardrailIdentifier\": \"pparlr97o7gz\", \n",
    "        \"guardrailVersion\": \"1\"\n",
    "    }\n",
    ")"
   ]
  },
  {
   "cell_type": "code",
   "execution_count": null,
   "id": "ba705283",
   "metadata": {},
   "outputs": [],
   "source": [
    "# returns template text for passing into LLM\n",
    "# a palindrome is a word or phrase that is identical when spelled backward, excluding punctuation.\n",
    "# chances are.. you will need to modify this prompt in order to get a proper palindrome!\n",
    "prompt = PromptTemplate(\n",
    "    template=\"\"\"\n",
    "generate a palindrome based upon a holiday\n",
    "\"\"\"\n",
    ")"
   ]
  },
  {
   "cell_type": "code",
   "execution_count": null,
   "id": "47178422",
   "metadata": {},
   "outputs": [],
   "source": [
    "# prompt is passed into the model. response is parsed for easy reading.\n",
    "chain = prompt | model | StrOutputParser()"
   ]
  },
  {
   "cell_type": "code",
   "execution_count": null,
   "id": "4b4fb4bb",
   "metadata": {
    "scrolled": false
   },
   "outputs": [],
   "source": [
    "# model is invoked.. executing the chain.. then printing the output of the parser\n",
    "print(chain.invoke({}))"
   ]
  },
  {
   "cell_type": "code",
   "execution_count": null,
   "id": "30a1b8c3",
   "metadata": {},
   "outputs": [],
   "source": []
  }
 ],
 "metadata": {
  "kernelspec": {
   "display_name": "conda_python3",
   "language": "python",
   "name": "conda_python3"
  },
  "language_info": {
   "codemirror_mode": {
    "name": "ipython",
    "version": 3
   },
   "file_extension": ".py",
   "mimetype": "text/x-python",
   "name": "python",
   "nbconvert_exporter": "python",
   "pygments_lexer": "ipython3",
   "version": "3.10.14"
  }
 },
 "nbformat": 4,
 "nbformat_minor": 5
}
